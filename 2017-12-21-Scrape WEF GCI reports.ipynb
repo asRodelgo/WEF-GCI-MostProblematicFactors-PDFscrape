{
 "cells": [
  {
   "cell_type": "markdown",
   "metadata": {},
   "source": [
    "# Import modules, define functions and dicts"
   ]
  },
  {
   "cell_type": "code",
   "execution_count": 1,
   "metadata": {
    "ExecuteTime": {
     "end_time": "2017-12-21T21:44:42.789946Z",
     "start_time": "2017-12-21T21:44:42.167119Z"
    }
   },
   "outputs": [],
   "source": [
    "import tabula\n",
    "import pandas as pd\n",
    "import requests\n",
    "import bs4 \n",
    "import numpy as np\n",
    "import datetime\n",
    "from urllib.request import urlopen, urlretrieve, Request\n",
    "import io\n",
    "\n",
    "from pdfminer.pdfinterp import PDFResourceManager, PDFPageInterpreter\n",
    "from pdfminer.converter import TextConverter\n",
    "from pdfminer.layout import LAParams\n",
    "from pdfminer.pdfpage import PDFPage"
   ]
  },
  {
   "cell_type": "code",
   "execution_count": 2,
   "metadata": {
    "ExecuteTime": {
     "end_time": "2017-12-21T21:44:42.793979Z",
     "start_time": "2017-12-21T21:44:42.790951Z"
    }
   },
   "outputs": [],
   "source": [
    "date_today = datetime.date.today().strftime(\"%Y-%m-%d\")"
   ]
  },
  {
   "cell_type": "code",
   "execution_count": 3,
   "metadata": {
    "ExecuteTime": {
     "end_time": "2017-12-21T21:44:42.837078Z",
     "start_time": "2017-12-21T21:44:42.809000Z"
    }
   },
   "outputs": [],
   "source": [
    "# load dictionary of Country name - Country ISO mappings\n",
    "cou_dict = pd.read_csv(\"countryISO3.csv\").set_index('Economy').to_dict()['ISO3']"
   ]
  },
  {
   "cell_type": "code",
   "execution_count": 4,
   "metadata": {
    "ExecuteTime": {
     "end_time": "2017-12-21T21:44:43.456126Z",
     "start_time": "2017-12-21T21:44:43.441873Z"
    },
    "collapsed": true
   },
   "outputs": [],
   "source": [
    "# define custom function to convert PDF to text\n",
    "def convert_pdf_to_txt(path):\n",
    "    rsrcmgr = PDFResourceManager()\n",
    "    retstr = io.StringIO()\n",
    "    codec = 'utf-8'\n",
    "    laparams = LAParams()\n",
    "    device = TextConverter(rsrcmgr, retstr, codec=codec, laparams=laparams)\n",
    "#     fp = open(path, 'rb')\n",
    "    fp1 = urlopen(Request(path)).read()\n",
    "    fp = io.BytesIO(fp1)\n",
    "    \n",
    "    interpreter = PDFPageInterpreter(rsrcmgr, device)\n",
    "    password = \"\"\n",
    "    maxpages = 0\n",
    "    caching = True\n",
    "    pagenos = set()\n",
    "\n",
    "    for page in PDFPage.get_pages(fp, pagenos, maxpages=maxpages,\n",
    "                                  password=password,\n",
    "                                  caching=caching,\n",
    "                                  check_extractable=True):\n",
    "        interpreter.process_page(page)\n",
    "\n",
    "    text = retstr.getvalue()\n",
    "\n",
    "    fp.close()\n",
    "    device.close()\n",
    "    retstr.close()\n",
    "    return text"
   ]
  },
  {
   "cell_type": "markdown",
   "metadata": {},
   "source": [
    "# Extract list of country pdf URLs"
   ]
  },
  {
   "cell_type": "code",
   "execution_count": 5,
   "metadata": {
    "ExecuteTime": {
     "end_time": "2017-12-21T21:44:46.290717Z",
     "start_time": "2017-12-21T21:44:44.440265Z"
    },
    "collapsed": true
   },
   "outputs": [],
   "source": [
    "# go to main downloads page for most recent GCI\n",
    "main_download_url = 'http://reports.weforum.org/global-competitiveness-index-2017-2018/downloads/'\n",
    "r = requests.get(main_download_url)\n",
    "soup = bs4.BeautifulSoup(r.text, \"lxml\")\n",
    "\n",
    "url_list = []\n",
    "for url in soup.find_all('a', href=True):\n",
    "    url_list.append(url['href'])\n",
    "    \n",
    "# get all country PDF links\n",
    "query = \"http://www3.weforum.org/docs/GCR2017-2018/03CountryProfiles/Standalone2-pagerprofiles/WEF_GCI_2017_2018_Profile_\"\n",
    "country_pdf_list = [url for url in url_list if query in url]"
   ]
  },
  {
   "cell_type": "code",
   "execution_count": 6,
   "metadata": {
    "ExecuteTime": {
     "end_time": "2017-12-21T21:44:46.295526Z",
     "start_time": "2017-12-21T21:44:46.291481Z"
    }
   },
   "outputs": [],
   "source": [
    "# df_all = pd.DataFrame()\n",
    "# exceptions = ['Argentina', 'Australia', 'Bahrain']\n",
    "# for cou_pdf in country_pdf_list:\n",
    "#     cou_name = cou_pdf.replace(query,\"\").replace(\".pdf\", \"\").replace(\"_\",\" \")\n",
    "#     print(cou_name)\n",
    "#     if cou_name not in exceptions:\n",
    "#         df_cou = tabula.read_pdf(cou_pdf,guess=False, pages=1, area=[473.397,24.841,650.409,192.929], stream=True, pandas_options={'header': None})\n",
    "#     else:\n",
    "#         df_cou = tabula.read_pdf(cou_pdf,guess=False, pages=1, area=[531.409,23.354,709.909,191.441], stream=True, pandas_options={'header': None})\n",
    "#     df_cou.columns = ['name', 'value']\n",
    "#     df_cou['Country ISO3'] = cou_dict[cou_name]\n",
    "    \n",
    "#     df_all = df_all.append(df_cou)\n",
    "# df_all.reset_index(inplace=True)"
   ]
  },
  {
   "cell_type": "markdown",
   "metadata": {},
   "source": [
    "# Iterate through each PDF and scrape 2017 GCI Most Problematic country data"
   ]
  },
  {
   "cell_type": "code",
   "execution_count": 16,
   "metadata": {
    "ExecuteTime": {
     "end_time": "2017-12-21T21:54:53.017507Z",
     "start_time": "2017-12-21T21:51:37.845599Z"
    }
   },
   "outputs": [],
   "source": [
    "# set anchor text to scrape data from\n",
    "start = \"Most problematic factors for doing business\\n\"\n",
    "end = \"\\n\\nNote: From the list of factors, respondents to the World Economic Forum's Executive Opinion Survey\"\n",
    "\n",
    "# initialize empty dataframe to consolidate\n",
    "df_all = pd.DataFrame()\n",
    "\n",
    "# iterate through each PDF URL\n",
    "for cou_pdf in country_pdf_list:\n",
    "    \n",
    "    # extract the country name from the PDF url\n",
    "    cou_name = cou_pdf.replace(query,\"\").replace(\".pdf\", \"\").replace(\"_\",\" \")\n",
    "    \n",
    "    # convert PDf to text\n",
    "    df_text = convert_pdf_to_txt(cou_pdf)\n",
    "    \n",
    "    # extract the data from the text using the text anchors\n",
    "    df_cou = pd.DataFrame([df_text[df_text.find(start)+len(start):df_text.find(end)].split(\"\\n\\n\")[0].split(\"\\n\"), df_text[df_text.find(start)+len(start):df_text.find(end)].split(\"\\n\\n\")[1].split(\"\\n\")]).T\n",
    "    \n",
    "    # data processing to add structure to dat\n",
    "    df_cou.columns = ['Indicator', '2017']\n",
    "    df_cou['Country ISO3'] = cou_dict[cou_name]\n",
    "    \n",
    "    # combine all data\n",
    "    df_all = df_all.append(df_cou)"
   ]
  },
  {
   "cell_type": "markdown",
   "metadata": {},
   "source": [
    "# convert Indicator Name to correct Name and ID in TCdata360"
   ]
  },
  {
   "cell_type": "code",
   "execution_count": 17,
   "metadata": {
    "ExecuteTime": {
     "end_time": "2017-12-21T21:54:53.040077Z",
     "start_time": "2017-12-21T21:54:53.020418Z"
    }
   },
   "outputs": [],
   "source": [
    "# map all indicator names to actual names in TCdata360\n",
    "ind_dict = pd.read_csv('mapping.csv').set_index('Indicator').to_dict()['name']\n",
    "df_all['Indicator'] = df_all['Indicator'].replace(ind_dict)"
   ]
  },
  {
   "cell_type": "code",
   "execution_count": 19,
   "metadata": {
    "ExecuteTime": {
     "end_time": "2017-12-21T21:58:36.017846Z",
     "start_time": "2017-12-21T21:58:31.258751Z"
    }
   },
   "outputs": [],
   "source": [
    "# get indicator IDs from TCdata360 API\n",
    "df_ind_metadata = pd.DataFrame(requests.get('https://tcdata360-backend.worldbank.org/api/v1/indicators/?fields=id%2Cname%2CdatasetId').json())\n",
    "df_ind_metadata = df_ind_metadata[df_ind_metadata['datasetId'] == 71]\n",
    "df_ind_metadata = df_ind_metadata.drop('datasetId', axis=1).reset_index(drop=True)"
   ]
  },
  {
   "cell_type": "code",
   "execution_count": 20,
   "metadata": {
    "ExecuteTime": {
     "end_time": "2017-12-21T21:58:38.415589Z",
     "start_time": "2017-12-21T21:58:38.406540Z"
    }
   },
   "outputs": [],
   "source": [
    "df_final = df_all.merge(df_ind_metadata, how='left', left_on='Indicator', right_on='name').drop(['name'], axis=1)"
   ]
  },
  {
   "cell_type": "code",
   "execution_count": 24,
   "metadata": {
    "ExecuteTime": {
     "end_time": "2017-12-21T22:00:16.687668Z",
     "start_time": "2017-12-21T22:00:16.670452Z"
    },
    "collapsed": true
   },
   "outputs": [],
   "source": [
    "df_final.to_csv(\"%s-WEF GCI Most Problematic Factors 2017.csv\" % str(date_today), index=False)"
   ]
  },
  {
   "cell_type": "markdown",
   "metadata": {},
   "source": [
    "## Sanity checks"
   ]
  },
  {
   "cell_type": "code",
   "execution_count": 27,
   "metadata": {
    "ExecuteTime": {
     "end_time": "2017-12-21T22:01:38.921393Z",
     "start_time": "2017-12-21T22:01:38.915376Z"
    }
   },
   "outputs": [
    {
     "data": {
      "text/plain": [
       "16    137\n",
       "Name: Country ISO3, dtype: int64"
      ]
     },
     "execution_count": 27,
     "metadata": {},
     "output_type": "execute_result"
    }
   ],
   "source": [
    "df_final['Country ISO3'].value_counts().value_counts()"
   ]
  },
  {
   "cell_type": "code",
   "execution_count": 29,
   "metadata": {
    "ExecuteTime": {
     "end_time": "2017-12-21T22:01:57.010792Z",
     "start_time": "2017-12-21T22:01:57.004274Z"
    }
   },
   "outputs": [
    {
     "data": {
      "text/plain": [
       "137"
      ]
     },
     "execution_count": 29,
     "metadata": {},
     "output_type": "execute_result"
    }
   ],
   "source": [
    "len(set(df_final['Country ISO3']))"
   ]
  },
  {
   "cell_type": "code",
   "execution_count": 30,
   "metadata": {
    "ExecuteTime": {
     "end_time": "2017-12-21T22:02:16.478762Z",
     "start_time": "2017-12-21T22:02:16.474760Z"
    }
   },
   "outputs": [
    {
     "data": {
      "text/plain": [
       "137"
      ]
     },
     "execution_count": 30,
     "metadata": {},
     "output_type": "execute_result"
    }
   ],
   "source": [
    "len(country_pdf_list)"
   ]
  }
 ],
 "metadata": {
  "kernelspec": {
   "display_name": "Python 3",
   "language": "python",
   "name": "python3"
  },
  "language_info": {
   "codemirror_mode": {
    "name": "ipython",
    "version": 3
   },
   "file_extension": ".py",
   "mimetype": "text/x-python",
   "name": "python",
   "nbconvert_exporter": "python",
   "pygments_lexer": "ipython3",
   "version": "3.6.1"
  },
  "toc": {
   "colors": {
    "hover_highlight": "#DAA520",
    "navigate_num": "#000000",
    "navigate_text": "#333333",
    "running_highlight": "#FF0000",
    "selected_highlight": "#FFD700",
    "sidebar_border": "#EEEEEE",
    "wrapper_background": "#FFFFFF"
   },
   "moveMenuLeft": true,
   "nav_menu": {
    "height": "121px",
    "width": "252px"
   },
   "navigate_menu": true,
   "number_sections": true,
   "sideBar": true,
   "threshold": 4,
   "toc_cell": false,
   "toc_section_display": "block",
   "toc_window_display": false,
   "widenNotebook": false
  }
 },
 "nbformat": 4,
 "nbformat_minor": 2
}
